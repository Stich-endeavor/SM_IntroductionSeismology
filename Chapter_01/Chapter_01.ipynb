{
 "cells": [
  {
   "attachments": {},
   "cell_type": "markdown",
   "id": "64c1e046",
   "metadata": {},
   "source": [
    "# Chaper 01"
   ]
  },
  {
   "cell_type": "markdown",
   "id": "86791d84",
   "metadata": {},
   "source": [
    "1. __The radii of the Earth, Moon and Sun are 6371 km, 1738 km, and 6.951 x 10^5 km, respectively. From figures 1.1, 1.5 and 1.6 make a rough estimate of how long it takes a *P* wave to traverse the diameter of each body.__"
   ]
  },
  {
   "attachments": {},
   "cell_type": "markdown",
   "id": "d3d8752e",
   "metadata": {},
   "source": [
    "A rough estimation of the time that _P_ waves takes to travel across this structures is through the equation of uniform rectilinear movement:\n",
    "\n",
    "$$\n",
    "d = v * t\n",
    "$$\n",
    "\n",
    "where $d$ represent distance, $v$ velocity and $t$ the time. Here the diameter of the Earth, Moon and Sun depict the distance $d$. "
   ]
  },
  {
   "cell_type": "markdown",
   "id": "61c4b0c5",
   "metadata": {},
   "source": [
    "For this rough approximation we consider a constant _P_ wave velocity as the average of the velocity profiles from the Figure 1.1, 1.5 and 1.6. \n"
   ]
  }
 ],
 "metadata": {
  "kernelspec": {
   "display_name": "Python 3",
   "language": "python",
   "name": "python3"
  },
  "language_info": {
   "codemirror_mode": {
    "name": "ipython",
    "version": 3
   },
   "file_extension": ".py",
   "mimetype": "text/x-python",
   "name": "python",
   "nbconvert_exporter": "python",
   "pygments_lexer": "ipython3",
   "version": "3.8.8"
  }
 },
 "nbformat": 4,
 "nbformat_minor": 5
}
