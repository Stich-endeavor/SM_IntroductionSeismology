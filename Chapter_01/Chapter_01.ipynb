{
 "cells": [
  {
   "cell_type": "markdown",
   "id": "64c1e046",
   "metadata": {},
   "source": [
    "# Chaper 01"
   ]
  },
  {
   "cell_type": "markdown",
   "id": "86791d84",
   "metadata": {},
   "source": [
    "1. __The radii of the Earth, Moon and Sun are 6371 km, 1738 km, and 6.951 x 10^5 km, respectively. From figures 1.1, 1.5 and 1.6 make a rough estimate of how long it takes a *P* wave to traverse the diameter of each body.__"
   ]
  },
  {
   "cell_type": "markdown",
   "id": "d3d8752e",
   "metadata": {},
   "source": [
    "A rough estimation of the time that _P_ waves takes to travel across this structures is through the equation of uniform rectilinear movement:\n",
    "\n",
    "$$\n",
    "d = v * t\n",
    "$$\n",
    "\n",
    "where $d$ represent distance, $v$ velocity and $t$ the time. Here the diameter of the Earth, Moon and Sun depict the distance $d$. \n",
    "For this rough approximation we consider a constant _P_ wave velocity as the average of the velocity profiles from the Figure 1.1, 1.5 and 1.6. \n",
    "<img src=\"Figure1_1.png\"><img src=\"Figure1_5.png\"><img src=\"Figure1_6.png\">"
   ]
  },
  {
   "cell_type": "markdown",
   "id": "7107654a",
   "metadata": {},
   "source": [
    "Thus the time that _P_ waves takes to travel across these bodies are: \n",
    "$$ t = d/v $$\n",
    "* Earth: $$ t = \\frac{6371 km * 2}{11 km / s} $$ $$t = 1158 s$$\n",
    "                \n",
    "        \n",
    "* Moon: $$t = \\frac{1738 km *2}{7.5 km/s}$$ $$t = 463 s$$\n",
    "* Sun: $$t = \\frac{6.951 x 10^5 km *2}{275 km/s}$$ $$t = 50552 s$$"
   ]
  },
  {
   "cell_type": "markdown",
   "id": "058cf97c",
   "metadata": {},
   "source": [
    "2. __Assuming that the _P_ velocity in the ocean is 1.5 km/s, estimate the minimum and maximum water depths shown in Figure 1.8. If the crustal _P_ velocity is 5 km/s, what is the depth to the top of the magma chamber from the sea ﬂoor?__"
   ]
  },
  {
   "cell_type": "markdown",
   "id": "600346aa",
   "metadata": {},
   "source": [
    "<img src=\"Figure1_8.png\">"
   ]
  },
  {
   "cell_type": "markdown",
   "id": "a41f2ca0",
   "metadata": {},
   "source": [
    "To solve this problem we will consider a similar approach as above.\n",
    "Given that Figure 1.8 explains to us that the vertical axis represents the two-way travel time, we divide the time by two to solve the equation. \n",
    "We consider the upper limit from the y-axes (3.0 s) as the surface of the ocean and the thick black lines as the oceanic crust. \n",
    "$$d = v * t/2$$\n",
    "* Minimum water depth according to 3.5s \"time line\":\n",
    "$$d = 1.5 km/s * \\frac{3.5 s}{2} $$\n",
    "$$d = 2.625 km$$\n",
    "* Maximum water depth according to 3.9s \"time line\": \n",
    "$$d = 1.5 km/s * \\frac{3.9 s}{2}$$\n",
    "$$d = 2.925 km$$\n",
    "* Depth of the top magma chamber (4.0s) from the sea floor (3.5s): \n",
    "$$d = 5 km/s * \\frac{4.0s-3.5s}{2} s$$\n",
    "$$d = 1.25 km$$\n"
   ]
  },
  {
   "attachments": {},
   "cell_type": "markdown",
   "id": "adf57da7",
   "metadata": {},
   "source": [
    "3. __Assume that the S velocity perturbations plotted at 150 km depth in Figure 1.7 extend throughout the uppermost 300 km of the mantle. Estimate how many seconds earlier a vertically upgoing S-wave will arrive at a seismic station in the middle of Canada, compared to a station in the eastern Paciﬁc. Ignore any topographic or crustal thickness differences between the sites; consider only the integrated travel time difference through the upper mantle.__"
   ]
  },
  {
   "attachments": {},
   "cell_type": "markdown",
   "id": "b4595d35",
   "metadata": {},
   "source": [
    "According to the statement and the Figure 1.7 we could identify a relative difference of 3.2% among the S wave velocity between the middle of Canada and Eastern Pacific. Here we regard a rough S-wave average velocity for the 300 km mantle from Figure 1.1 equal to 4.5 km/s. "
   ]
  },
  {
   "cell_type": "markdown",
   "id": "c4b8ecf6",
   "metadata": {},
   "source": [
    "<img src=\"Figure1_7_Ex3.png\" width=\"400\"> \n",
    "<img src=\"Figure1_1_Ex3.png\" width=\"400\"> "
   ]
  },
  {
   "cell_type": "markdown",
   "id": "299dd6a9",
   "metadata": {},
   "source": [
    "With this information and the equation of uniform rectilinear movement we could define: \n",
    "$$t=d/v$$\n",
    "* S-wave arrival time in Canada (yellow star):\n",
    "$$t = \\frac{(300km)}{4.5km/s+(0.014*4.5km/s)}$$\n",
    "$$ t = 65.746 s $$\n",
    "\n",
    "* S-wave arrival time in eastern Pacific (red star):\n",
    "$$t = \\frac{(300km)}{4.5km/s-(0.018*4.5km/s)}$$\n",
    "$$ t = 67.888 s $$\n",
    "\n",
    "The S-wave reaches the surface earlier in Canada than in the eastern Pacific with a time difference of __2.142 seconds__. "
   ]
  },
  {
   "attachments": {},
   "cell_type": "markdown",
   "id": "d5c0a574",
   "metadata": {},
   "source": [
    "4. __Earthquake moment is deﬁned as M0 = µDA, where µ is the shear modulus, D is the average displacement on the fault, and A is the fault area that slipped. The moment of the 2004 Sumatra-Andaman earthquake has been estimated to be about 1.0 × 10^23 N m. Assuming that the fault is horizontal, crudely estimate the slip area from the image shown in Figure 1.9. Assuming that the shear modulus µ = 3.0 × 10^10 N/m2, then compute the average displacement on the fault.__"
   ]
  }
 ],
 "metadata": {
  "kernelspec": {
   "display_name": "Python 3",
   "language": "python",
   "name": "python3"
  },
  "language_info": {
   "codemirror_mode": {
    "name": "ipython",
    "version": 3
   },
   "file_extension": ".py",
   "mimetype": "text/x-python",
   "name": "python",
   "nbconvert_exporter": "python",
   "pygments_lexer": "ipython3",
   "version": "3.8.8"
  }
 },
 "nbformat": 4,
 "nbformat_minor": 5
}
