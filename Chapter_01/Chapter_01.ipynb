{
 "cells": [
  {
   "cell_type": "markdown",
   "id": "64c1e046",
   "metadata": {},
   "source": [
    "# Chaper 01"
   ]
  },
  {
   "cell_type": "markdown",
   "id": "86791d84",
   "metadata": {},
   "source": [
    "1. __The radii of the Earth, Moon and Sun are 6371 km, 1738 km, and 6.951 x 10^5 km, respectively. From figures 1.1, 1.5 and 1.6 make a rough estimate of how long it takes a *P* wave to traverse the diameter of each body.__"
   ]
  },
  {
   "cell_type": "markdown",
   "id": "d3d8752e",
   "metadata": {},
   "source": [
    "A rough estimation of the time that _P_ waves takes to travel across this structures is through the equation of uniform rectilinear movement:\n",
    "\n",
    "$$\n",
    "d = v * t\n",
    "$$\n",
    "\n",
    "where $d$ represent distance, $v$ velocity and $t$ the time. Here the diameter of the Earth, Moon and Sun depict the distance $d$. \n",
    "For this rough approximation we consider a constant _P_ wave velocity as the average of the velocity profiles from the Figure 1.1, 1.5 and 1.6. \n",
    "<img src=\"Figure1_1.png\"><img src=\"Figure1_5.png\"><img src=\"Figure1_6.png\">"
   ]
  },
  {
   "cell_type": "markdown",
   "id": "7107654a",
   "metadata": {},
   "source": [
    "Thus the time that _P_ waves takes to travel across this bodies are: \n",
    "$$ t = d/v $$\n",
    "* Earth: $$ t = \\frac{6371 km * 2}{11 km / s} $$ $$t = 1158 s$$\n",
    "                \n",
    "        \n",
    "* Moon: $$t = \\frac{1738 km *2}{7.5 km/s}$$ $$t = 463 s$$\n",
    "* Sun: $$t = \\frac{6.951 x 10^5 km *2}{275 km/s}$$ $$t = 50552 s$$"
   ]
  },
  {
   "cell_type": "markdown",
   "id": "058cf97c",
   "metadata": {},
   "source": [
    "2. __Assuming that the _P_ velocity in the ocean is 1.5 km/s, estimate the minimum and maximum water depths shown in Figure 1.8. If the crustal _P_ velocity is 5 km/s, what is the depth to the top of the magma chamber from the sea ﬂoor?__"
   ]
  },
  {
   "cell_type": "markdown",
   "id": "600346aa",
   "metadata": {},
   "source": [
    "<img src=\"Figure1_8.png\">"
   ]
  },
  {
   "cell_type": "markdown",
   "id": "a41f2ca0",
   "metadata": {},
   "source": [
    "To solve this problem we will consider a similar approach as above.\n",
    "We consider the upper limit from the y-axes (3.0 s) as the surface of the ocean and the black lines as the oceanic crust. \n",
    "$$d = v * t$$\n",
    "* Minimum water depth:\n",
    "\t\t\t d = 1.5 km/s * 3.5 s ; d = 5.25 km\n",
    "* Maximum depth: \n",
    "\t\t\td = v * t ; d = 1.5 km/s * 3.9 s ; d = 5.85 km\n",
    "* Depth of the magma chamber:\n",
    "\t\t\td = v * t ; d = 5 km/s * 0.5 s ; d = 4.5 km \n"
   ]
  }
 ],
 "metadata": {
  "kernelspec": {
   "display_name": "Python 3",
   "language": "python",
   "name": "python3"
  },
  "language_info": {
   "codemirror_mode": {
    "name": "ipython",
    "version": 3
   },
   "file_extension": ".py",
   "mimetype": "text/x-python",
   "name": "python",
   "nbconvert_exporter": "python",
   "pygments_lexer": "ipython3",
   "version": "3.8.8"
  }
 },
 "nbformat": 4,
 "nbformat_minor": 5
}
